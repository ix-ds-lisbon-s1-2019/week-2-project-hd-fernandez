{
 "cells": [
  {
   "cell_type": "markdown",
   "metadata": {},
   "source": [
    "# Suicide QA"
   ]
  },
  {
   "cell_type": "code",
   "execution_count": 40,
   "metadata": {},
   "outputs": [],
   "source": [
    "import pandas as pd"
   ]
  },
  {
   "cell_type": "code",
   "execution_count": 41,
   "metadata": {},
   "outputs": [],
   "source": [
    "%matplotlib inline\n",
    "import matplotlib.pyplot as plt\n",
    "\n",
    "plt.rcParams['figure.figsize'] = (6,6)"
   ]
  },
  {
   "cell_type": "code",
   "execution_count": 42,
   "metadata": {},
   "outputs": [],
   "source": [
    "from scipy import stats\n",
    "import numpy as np\n",
    "import matplotlib.pyplot as plt\n",
    "from pandas.plotting import scatter_matrix\n",
    "from ipywidgets import interact"
   ]
  },
  {
   "cell_type": "code",
   "execution_count": 43,
   "metadata": {},
   "outputs": [],
   "source": [
    "suicides = pd.read_csv(\"data/suicides.1.initial_process.csv\")"
   ]
  },
  {
   "cell_type": "code",
   "execution_count": 44,
   "metadata": {},
   "outputs": [
    {
     "data": {
      "text/html": [
       "<div>\n",
       "<style scoped>\n",
       "    .dataframe tbody tr th:only-of-type {\n",
       "        vertical-align: middle;\n",
       "    }\n",
       "\n",
       "    .dataframe tbody tr th {\n",
       "        vertical-align: top;\n",
       "    }\n",
       "\n",
       "    .dataframe thead th {\n",
       "        text-align: right;\n",
       "    }\n",
       "</style>\n",
       "<table border=\"1\" class=\"dataframe\">\n",
       "  <thead>\n",
       "    <tr style=\"text-align: right;\">\n",
       "      <th></th>\n",
       "      <th>country</th>\n",
       "      <th>year</th>\n",
       "      <th>sex</th>\n",
       "      <th>age_group</th>\n",
       "      <th>suicides</th>\n",
       "      <th>population</th>\n",
       "      <th>suicide_rate</th>\n",
       "      <th>gdp_per_capita</th>\n",
       "      <th>generation</th>\n",
       "    </tr>\n",
       "  </thead>\n",
       "  <tbody>\n",
       "    <tr>\n",
       "      <th>0</th>\n",
       "      <td>Albania</td>\n",
       "      <td>1987</td>\n",
       "      <td>male</td>\n",
       "      <td>15-24 years</td>\n",
       "      <td>21</td>\n",
       "      <td>312900</td>\n",
       "      <td>6.71</td>\n",
       "      <td>796</td>\n",
       "      <td>Generation X</td>\n",
       "    </tr>\n",
       "    <tr>\n",
       "      <th>1</th>\n",
       "      <td>Albania</td>\n",
       "      <td>1987</td>\n",
       "      <td>male</td>\n",
       "      <td>35-54 years</td>\n",
       "      <td>16</td>\n",
       "      <td>308000</td>\n",
       "      <td>5.19</td>\n",
       "      <td>796</td>\n",
       "      <td>Silent</td>\n",
       "    </tr>\n",
       "    <tr>\n",
       "      <th>2</th>\n",
       "      <td>Albania</td>\n",
       "      <td>1987</td>\n",
       "      <td>female</td>\n",
       "      <td>15-24 years</td>\n",
       "      <td>14</td>\n",
       "      <td>289700</td>\n",
       "      <td>4.83</td>\n",
       "      <td>796</td>\n",
       "      <td>Generation X</td>\n",
       "    </tr>\n",
       "    <tr>\n",
       "      <th>3</th>\n",
       "      <td>Albania</td>\n",
       "      <td>1987</td>\n",
       "      <td>male</td>\n",
       "      <td>75+ years</td>\n",
       "      <td>1</td>\n",
       "      <td>21800</td>\n",
       "      <td>4.59</td>\n",
       "      <td>796</td>\n",
       "      <td>G.I. Generation</td>\n",
       "    </tr>\n",
       "    <tr>\n",
       "      <th>4</th>\n",
       "      <td>Albania</td>\n",
       "      <td>1987</td>\n",
       "      <td>male</td>\n",
       "      <td>25-34 years</td>\n",
       "      <td>9</td>\n",
       "      <td>274300</td>\n",
       "      <td>3.28</td>\n",
       "      <td>796</td>\n",
       "      <td>Boomers</td>\n",
       "    </tr>\n",
       "  </tbody>\n",
       "</table>\n",
       "</div>"
      ],
      "text/plain": [
       "   country  year     sex    age_group  suicides  population  suicide_rate  \\\n",
       "0  Albania  1987    male  15-24 years        21      312900          6.71   \n",
       "1  Albania  1987    male  35-54 years        16      308000          5.19   \n",
       "2  Albania  1987  female  15-24 years        14      289700          4.83   \n",
       "3  Albania  1987    male    75+ years         1       21800          4.59   \n",
       "4  Albania  1987    male  25-34 years         9      274300          3.28   \n",
       "\n",
       "   gdp_per_capita       generation  \n",
       "0             796     Generation X  \n",
       "1             796           Silent  \n",
       "2             796     Generation X  \n",
       "3             796  G.I. Generation  \n",
       "4             796          Boomers  "
      ]
     },
     "execution_count": 44,
     "metadata": {},
     "output_type": "execute_result"
    }
   ],
   "source": [
    "suicides.head()"
   ]
  },
  {
   "cell_type": "code",
   "execution_count": 45,
   "metadata": {
    "scrolled": true
   },
   "outputs": [
    {
     "data": {
      "text/plain": [
       "(27820, 9)"
      ]
     },
     "execution_count": 45,
     "metadata": {},
     "output_type": "execute_result"
    }
   ],
   "source": [
    "suicides.shape"
   ]
  },
  {
   "cell_type": "code",
   "execution_count": 46,
   "metadata": {},
   "outputs": [
    {
     "data": {
      "text/plain": [
       "country            object\n",
       "year                int64\n",
       "sex                object\n",
       "age_group          object\n",
       "suicides            int64\n",
       "population          int64\n",
       "suicide_rate      float64\n",
       "gdp_per_capita      int64\n",
       "generation         object\n",
       "dtype: object"
      ]
     },
     "execution_count": 46,
     "metadata": {},
     "output_type": "execute_result"
    }
   ],
   "source": [
    "suicides.dtypes"
   ]
  },
  {
   "cell_type": "markdown",
   "metadata": {},
   "source": [
    "## Duplicates"
   ]
  },
  {
   "cell_type": "markdown",
   "metadata": {},
   "source": [
    "#### How do I search for duplicates with both ints and strings!!??!!??"
   ]
  },
  {
   "cell_type": "code",
   "execution_count": 47,
   "metadata": {},
   "outputs": [],
   "source": [
    "suicides['unique_model'] = suicides.country.str.cat([suicides.sex, suicides.age_group.apply(str), \n",
    "                                                     suicides.year.apply(str)],sep='-')"
   ]
  },
  {
   "cell_type": "code",
   "execution_count": 48,
   "metadata": {},
   "outputs": [
    {
     "data": {
      "text/html": [
       "<div>\n",
       "<style scoped>\n",
       "    .dataframe tbody tr th:only-of-type {\n",
       "        vertical-align: middle;\n",
       "    }\n",
       "\n",
       "    .dataframe tbody tr th {\n",
       "        vertical-align: top;\n",
       "    }\n",
       "\n",
       "    .dataframe thead th {\n",
       "        text-align: right;\n",
       "    }\n",
       "</style>\n",
       "<table border=\"1\" class=\"dataframe\">\n",
       "  <thead>\n",
       "    <tr style=\"text-align: right;\">\n",
       "      <th></th>\n",
       "      <th>country</th>\n",
       "      <th>year</th>\n",
       "      <th>sex</th>\n",
       "      <th>age_group</th>\n",
       "      <th>unique_model</th>\n",
       "    </tr>\n",
       "  </thead>\n",
       "  <tbody>\n",
       "    <tr>\n",
       "      <th>0</th>\n",
       "      <td>Albania</td>\n",
       "      <td>1987</td>\n",
       "      <td>male</td>\n",
       "      <td>15-24 years</td>\n",
       "      <td>Albania-male-15-24 years-1987</td>\n",
       "    </tr>\n",
       "    <tr>\n",
       "      <th>1</th>\n",
       "      <td>Albania</td>\n",
       "      <td>1987</td>\n",
       "      <td>male</td>\n",
       "      <td>35-54 years</td>\n",
       "      <td>Albania-male-35-54 years-1987</td>\n",
       "    </tr>\n",
       "    <tr>\n",
       "      <th>2</th>\n",
       "      <td>Albania</td>\n",
       "      <td>1987</td>\n",
       "      <td>female</td>\n",
       "      <td>15-24 years</td>\n",
       "      <td>Albania-female-15-24 years-1987</td>\n",
       "    </tr>\n",
       "    <tr>\n",
       "      <th>3</th>\n",
       "      <td>Albania</td>\n",
       "      <td>1987</td>\n",
       "      <td>male</td>\n",
       "      <td>75+ years</td>\n",
       "      <td>Albania-male-75+ years-1987</td>\n",
       "    </tr>\n",
       "    <tr>\n",
       "      <th>4</th>\n",
       "      <td>Albania</td>\n",
       "      <td>1987</td>\n",
       "      <td>male</td>\n",
       "      <td>25-34 years</td>\n",
       "      <td>Albania-male-25-34 years-1987</td>\n",
       "    </tr>\n",
       "  </tbody>\n",
       "</table>\n",
       "</div>"
      ],
      "text/plain": [
       "   country  year     sex    age_group                     unique_model\n",
       "0  Albania  1987    male  15-24 years    Albania-male-15-24 years-1987\n",
       "1  Albania  1987    male  35-54 years    Albania-male-35-54 years-1987\n",
       "2  Albania  1987  female  15-24 years  Albania-female-15-24 years-1987\n",
       "3  Albania  1987    male    75+ years      Albania-male-75+ years-1987\n",
       "4  Albania  1987    male  25-34 years    Albania-male-25-34 years-1987"
      ]
     },
     "execution_count": 48,
     "metadata": {},
     "output_type": "execute_result"
    }
   ],
   "source": [
    "suicides[[\"country\", \"year\",\"sex\", \"age_group\", \"unique_model\"]].head()"
   ]
  },
  {
   "cell_type": "code",
   "execution_count": 49,
   "metadata": {
    "scrolled": true
   },
   "outputs": [
    {
     "data": {
      "text/plain": [
       "El Salvador-male-5-14 years-1996                      1\n",
       "Kuwait-female-35-54 years-2010                        1\n",
       "Croatia-female-55-74 years-2006                       1\n",
       "Colombia-male-55-74 years-1993                        1\n",
       "Norway-female-25-34 years-1995                        1\n",
       "Chile-female-15-24 years-1999                         1\n",
       "Hungary-female-55-74 years-2012                       1\n",
       "Kyrgyzstan-male-55-74 years-1997                      1\n",
       "Belize-male-55-74 years-1989                          1\n",
       "Netherlands-female-15-24 years-2006                   1\n",
       "Ireland-male-25-34 years-1985                         1\n",
       "Germany-female-35-54 years-1992                       1\n",
       "Belize-female-75+ years-1996                          1\n",
       "Italy-male-5-14 years-2008                            1\n",
       "Puerto Rico-female-55-74 years-2002                   1\n",
       "Romania-female-55-74 years-2006                       1\n",
       "Italy-male-75+ years-1995                             1\n",
       "Singapore-male-55-74 years-2011                       1\n",
       "France-male-25-34 years-2005                          1\n",
       "Sri Lanka-female-15-24 years-1986                     1\n",
       "Bosnia and Herzegovina-female-15-24 years-2014        1\n",
       "Poland-female-75+ years-2006                          1\n",
       "Saint Vincent and Grenadines-male-55-74 years-1996    1\n",
       "South Africa-male-35-54 years-2015                    1\n",
       "Lithuania-female-55-74 years-2011                     1\n",
       "Azerbaijan-male-55-74 years-2002                      1\n",
       "Mauritius-male-55-74 years-1995                       1\n",
       "Philippines-female-5-14 years-1999                    1\n",
       "Barbados-female-55-74 years-2006                      1\n",
       "Armenia-male-55-74 years-1990                         1\n",
       "                                                     ..\n",
       "Russian Federation-male-35-54 years-2011              1\n",
       "United States-female-25-34 years-1996                 1\n",
       "Mauritius-male-25-34 years-1986                       1\n",
       "Belgium-male-75+ years-1985                           1\n",
       "Australia-male-75+ years-1986                         1\n",
       "Slovenia-male-25-34 years-2002                        1\n",
       "Turkmenistan-female-5-14 years-2001                   1\n",
       "Suriname-male-55-74 years-2010                        1\n",
       "Singapore-female-75+ years-2006                       1\n",
       "Ecuador-male-25-34 years-1999                         1\n",
       "Cyprus-female-75+ years-2007                          1\n",
       "Argentina-female-15-24 years-2010                     1\n",
       "Romania-male-15-24 years-2012                         1\n",
       "Turkmenistan-male-25-34 years-2013                    1\n",
       "Kazakhstan-female-5-14 years-2014                     1\n",
       "Italy-female-15-24 years-1992                         1\n",
       "Ecuador-male-25-34 years-1987                         1\n",
       "Bahamas-female-55-74 years-1997                       1\n",
       "Trinidad and Tobago-female-55-74 years-2002           1\n",
       "Netherlands-male-25-34 years-1996                     1\n",
       "Kuwait-female-15-24 years-1995                        1\n",
       "Israel-female-75+ years-1992                          1\n",
       "Kuwait-male-55-74 years-2009                          1\n",
       "Uzbekistan-female-25-34 years-2013                    1\n",
       "Greece-female-5-14 years-1998                         1\n",
       "Belize-male-55-74 years-2008                          1\n",
       "Puerto Rico-female-25-34 years-2006                   1\n",
       "Portugal-female-15-24 years-2010                      1\n",
       "Russian Federation-male-15-24 years-1990              1\n",
       "Colombia-male-75+ years-2013                          1\n",
       "Name: unique_model, Length: 27820, dtype: int64"
      ]
     },
     "execution_count": 49,
     "metadata": {},
     "output_type": "execute_result"
    }
   ],
   "source": [
    "suicides.unique_model.value_counts()"
   ]
  },
  {
   "cell_type": "markdown",
   "metadata": {},
   "source": [
    "#### No duplicates"
   ]
  },
  {
   "cell_type": "markdown",
   "metadata": {},
   "source": [
    "## Cardinality"
   ]
  },
  {
   "cell_type": "code",
   "execution_count": 50,
   "metadata": {
    "scrolled": true
   },
   "outputs": [
    {
     "name": "stdout",
     "output_type": "stream",
     "text": [
      "country(object) | COMMON: 1.37%| UNCOMMON:10 observation/s\n",
      "year(int64) | COMMON: 3.84%| UNCOMMON:160 observation/s\n",
      "sex(object) | COMMON: 50.00%| UNCOMMON:13910 observation/s\n",
      "age_group(object) | COMMON: 16.69%| UNCOMMON:4610 observation/s\n",
      "suicides(int64) | COMMON: 15.39%| UNCOMMON:1 observation/s\n",
      "population(int64) | COMMON: 0.07%| UNCOMMON:1 observation/s\n",
      "suicide_rate(float64) | COMMON: 15.39%| UNCOMMON:1 observation/s\n",
      "gdp_per_capita(int64) | COMMON: 0.13%| UNCOMMON:10 observation/s\n",
      "generation(object) | COMMON: 23.03%| UNCOMMON:1470 observation/s\n",
      "unique_model(object) | COMMON: 0.00%| UNCOMMON:1 observation/s\n"
     ]
    }
   ],
   "source": [
    "n_records = len(suicides)\n",
    "def duplicate_values_col(df):\n",
    "    for column in df:\n",
    "        column_counts = df[column].value_counts()\n",
    "        most_common = column_counts.iloc[0]\n",
    "        least_common = column_counts.iloc[-1]\n",
    "        print(\"{}({}) | COMMON: {:.2f}%| UNCOMMON:{} observation/s\".format(\n",
    "            df[column].name,\n",
    "            df[column].dtype,\n",
    "            100 * most_common / (1.0 * n_records),\n",
    "            least_common,\n",
    "        ))\n",
    "\n",
    "duplicate_values_col(suicides)"
   ]
  },
  {
   "cell_type": "markdown",
   "metadata": {},
   "source": [
    "###### Relatively high cardinalities"
   ]
  },
  {
   "cell_type": "markdown",
   "metadata": {},
   "source": [
    "## Missing Values "
   ]
  },
  {
   "cell_type": "code",
   "execution_count": 51,
   "metadata": {},
   "outputs": [
    {
     "name": "stdout",
     "output_type": "stream",
     "text": [
      "country | 0.0 | object\n",
      "year | 0.0 | int64\n",
      "sex | 0.0 | object\n",
      "age_group | 0.0 | object\n",
      "suicides | 0.0 | int64\n",
      "population | 0.0 | int64\n",
      "suicide_rate | 0.0 | float64\n",
      "gdp_per_capita | 0.0 | int64\n",
      "generation | 0.0 | object\n",
      "unique_model | 0.0 | object\n"
     ]
    }
   ],
   "source": [
    "n_records = len(suicides)\n",
    "def missing_values_df(df):\n",
    "    for column in df:\n",
    "        print(\"{} | {} | {}\".format(\n",
    "            column, len(df[df[column].isnull()]) / (1.0*n_records), df[column].dtype\n",
    "        ))\n",
    "\n",
    "missing_values_df(suicides)"
   ]
  },
  {
   "cell_type": "markdown",
   "metadata": {},
   "source": [
    "##### No missing values found "
   ]
  },
  {
   "cell_type": "markdown",
   "metadata": {},
   "source": [
    "## Extreme Values"
   ]
  },
  {
   "cell_type": "code",
   "execution_count": 52,
   "metadata": {},
   "outputs": [
    {
     "name": "stdout",
     "output_type": "stream",
     "text": [
      "year | 0 | int64\n",
      "suicides | 409 | int64\n",
      "population | 722 | int64\n",
      "suicide_rate | 751 | float64\n",
      "gdp_per_capita | 504 | int64\n"
     ]
    }
   ],
   "source": [
    "def outliers_col(df):\n",
    "    for column in df:\n",
    "        if df[column].dtype != np.object:\n",
    "            n_outliers = len(df[(np.abs(stats.zscore(df[column])) > 3)& \\\n",
    "                  (df[column].notnull())\n",
    "                 ])\n",
    "            print(\"{} | {} | {}\".format(\n",
    "                df[column].name,\n",
    "                n_outliers,\n",
    "                df[column].dtype\n",
    "        ))\n",
    "\n",
    "outliers_col(suicides)"
   ]
  },
  {
   "cell_type": "code",
   "execution_count": 53,
   "metadata": {
    "scrolled": true
   },
   "outputs": [
    {
     "data": {
      "image/png": "[encoded data removed]",
      "text/plain": [
       "<Figure size 432x432 with 1 Axes>"
      ]
     },
     "metadata": {
      "needs_background": "light"
     },
     "output_type": "display_data"
    }
   ],
   "source": [
    "suicides.boxplot(column='suicides');"
   ]
  },
  {
   "cell_type": "markdown",
   "metadata": {},
   "source": [
    "###### This is raw data so we can't get a whole lot from this"
   ]
  },
  {
   "cell_type": "code",
   "execution_count": 54,
   "metadata": {
    "scrolled": false
   },
   "outputs": [
    {
     "data": {
      "image/png": "[encoded data removed]",
      "text/plain": [
       "<Figure size 432x432 with 1 Axes>"
      ]
     },
     "metadata": {
      "needs_background": "light"
     },
     "output_type": "display_data"
    }
   ],
   "source": [
    "suicides.boxplot(column='population');"
   ]
  },
  {
   "cell_type": "markdown",
   "metadata": {},
   "source": [
    "###### Same for this one"
   ]
  },
  {
   "cell_type": "markdown",
   "metadata": {},
   "source": [
    "## Conclusion"
   ]
  },
  {
   "cell_type": "markdown",
   "metadata": {},
   "source": [
    "###### This Data was taken from a keggle csv data set that had already been clean and organized. It makes sense that there was 50% cardinality for the sex of the suicide victims because the data is structured by alternating between males and females for each year in each country. There were also no missing values or duplicates\n",
    "\n",
    "\n",
    "There are 0 duplicate rows \n",
    "There are 0 missing values\n",
    "Nothing noteworthy in the cardinalities - all relatively high.\n",
    "There are outliers in the variables suicides, population, suicide_rate and gdp_per_capita"
   ]
  },
  {
   "cell_type": "code",
   "execution_count": 55,
   "metadata": {},
   "outputs": [],
   "source": [
    "#Post QA save\n",
    "suicides.to_csv(\"data/suicides.2.clean.csv\", index=False)"
   ]
  }
 ],
 "metadata": {
  "kernelspec": {
   "display_name": "Python 3",
   "language": "python",
   "name": "python3"
  },
  "language_info": {
   "codemirror_mode": {
    "name": "ipython",
    "version": 3
   },
   "file_extension": ".py",
   "mimetype": "text/x-python",
   "name": "python",
   "nbconvert_exporter": "python",
   "pygments_lexer": "ipython3",
   "version": "3.7.3"
  }
 },
 "nbformat": 4,
 "nbformat_minor": 2
}
